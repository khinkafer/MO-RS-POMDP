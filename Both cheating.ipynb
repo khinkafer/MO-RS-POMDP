{
 "cells": [
  {
   "cell_type": "code",
   "execution_count": 4,
   "id": "78f03512-3edf-44d2-8f5d-36c275392620",
   "metadata": {},
   "outputs": [],
   "source": [
    "import numpy as np\n",
    "from datetime import datetime\n",
    "import os\n",
    "import itertools as it\n",
    "from env import *\n",
    "import pandas as pd\n",
    "import random\n",
    "from Beurele_agent import *\n",
    "from MO_agent import *\n"
   ]
  },
  {
   "cell_type": "code",
   "execution_count": 5,
   "id": "54283c19-da64-4a81-99f8-e66645891474",
   "metadata": {},
   "outputs": [
    {
     "name": "stdout",
     "output_type": "stream",
     "text": [
      "{'state_change_r2l': 0.1, 'state_change_l2r': 0.1, 'false_observation_get_l_while_r': 0.3, 'false_observation_get_r_while_l': 0.3, 'reward_listen': -0.5, 'reward_low_incorrect': -1, 'reward_high_incorrect': -2, 'reward_low_correct': 1, 'reward_high_correct': 2, 'discount_factor': 0.9, 'initial_wealth': 0}\n"
     ]
    }
   ],
   "source": [
    "e=tiger_POMDP_env(read_config=True,config_address='./tiger.json',parameters=None)\n",
    "num_to_act=dict(zip(list(e.actions.values()),list(e.actions.keys())))\n"
   ]
  },
  {
   "cell_type": "markdown",
   "id": "481b971c-d6ac-4c22-811a-aa89d1448196",
   "metadata": {},
   "source": [
    "### Check similarity of methods' actions"
   ]
  },
  {
   "cell_type": "code",
   "execution_count": null,
   "id": "5b6cf5aa-015d-4510-b781-b5daae011d1f",
   "metadata": {},
   "outputs": [],
   "source": [
    "E=[-1.5,-0.2,-0.1,0.1,0.2,1.5]\n",
    "W=[-1,0,1,2]\n",
    "inits=[[1,0],[0.9,0.1],[0.75,0.25],[0.5,0.5]]\n",
    "initial_observation=0\n",
    "\n",
    "loop_counts=0\n",
    "for max_depth in range(1,5):\n",
    "    corr_count=0\n",
    "    all_count=0\n",
    "    loop_counts+=1\n",
    "    print(loop_counts)\n",
    "    for e1 in E:\n",
    "        for e2 in E:\n",
    "            exp_vorfaktoren=[e1,e2]\n",
    "            for w1 in W:\n",
    "                for w2 in W:\n",
    "                    exp_weights=[w1,w2]\n",
    "                    for init in inits:\n",
    "                        ag2=Multi_Variate_agent(environment=e, planning_depth=max_depth, partitioning_chunk_number=10,agent_mode='cheating')\n",
    "                        ag2.reset()\n",
    "                        x_map2,M2,F2,G2,X2,value_function2,all_theta2=ag2.pre_planning(exp_vorfaktoren=exp_vorfaktoren,exp_weights=exp_weights, initial_theta=init,initial_observation=initial_observation)\n",
    "                        v2,a2,q2,vf2=ag2.value_iteration()\n",
    "                        \n",
    "                        \n",
    "                        ag=Bauerle_Rieder_agent(environment=e, num_of_Mu_chunks=2,max_iterations=max_depth)\n",
    "                        b_S,b_r,b_map,b_q_func,b_value_function,b_action_func=ag.continious_optimized_planning(initial_mu_state=init,initial_wealth=0,exp_weights=exp_weights,exp_vorfaktoren=exp_vorfaktoren)\n",
    "                        \n",
    "                        #m_r,m_map, m_q_func,m_value_function,m_action_func=MO_cheating(env_dynamics=e,planning_depth=max_depth,exp_vorfaktoren=exp_vorfaktoren,exp_weights=exp_weights ,initial_theta=init,initial_observation=0,rounding_prec_coeff=10000)\n",
    "                        #b_S,b_r,b_map,b_q_func,b_value_function,b_action_func=Beurele_cheating(env_dynamics=e,planning_depth=max_depth,exp_vorfaktoren=exp_vorfaktoren,exp_weights=exp_weights ,initial_mu_state=init,initial_wealth=0,comparison_precision=1.0e-5)\n",
    "                        \n",
    "                        m_init=init*len(init)\n",
    "                        m_init.append(0)\n",
    "                        \n",
    "                        all_count+=1\n",
    "                        if a2[0][tuple(m_init)]==b_action_func[0][0][tuple(init)]:\n",
    "                            corr_count+=1\n",
    "                        else:\n",
    "                            print (q2[0][tuple(m_init)], b_q_func[0][0][tuple(init)],'           ',a2[0][tuple(m_init)],b_action_func[0][0][tuple(init)],'    ||     exp:',exp_vorfaktoren,exp_weights,init)\n",
    "    print('--------------------------')                        \n",
    "    print(all_count-corr_count,all_count,corr_count/all_count)\n",
    "    print('=====================================')"
   ]
  },
  {
   "cell_type": "markdown",
   "id": "d2d0fa19-8032-4d5a-af18-7b43f4dcf739",
   "metadata": {},
   "source": [
    "## Simulation"
   ]
  },
  {
   "cell_type": "markdown",
   "id": "9a69fe91-7206-445d-be76-e0cd24604ea0",
   "metadata": {},
   "source": [
    "### Beurele"
   ]
  },
  {
   "cell_type": "code",
   "execution_count": 6,
   "id": "01d53f53-c1f0-4e70-b0cb-8fc3886d5a2e",
   "metadata": {},
   "outputs": [],
   "source": [
    "max_depth=2\n",
    "planning_depth=max_depth\n",
    "exp_vorfaktoren=[-1,0.1]\n",
    "exp_weights=[-1,1]\n",
    "initial_Mu=[0.5,0.5]\n",
    "initial_observation=0\n",
    "initial_wealth=0"
   ]
  },
  {
   "cell_type": "code",
   "execution_count": 7,
   "id": "d286fdd2-48fa-434b-a4c6-9bacc7bd5122",
   "metadata": {
    "tags": []
   },
   "outputs": [
    {
     "name": "stdout",
     "output_type": "stream",
     "text": [
      "t= 0\n",
      "------\n",
      "state: 0 tiger_right\n",
      "last_observation: 0\n",
      "-------------------------------\n",
      "\n",
      "current internal state: [0.5, 0.5]\n",
      "\n",
      "             action: listen\n",
      "             **\n",
      "reward: -0.5 new observation: 0\n",
      "\n",
      "new internal state: [0.0, 0.0, 0.7, 0.0, 0.0, 0.0, 0.0, 0.30000000000000004, 0.0, 0.0]\n",
      "\n",
      "============================\n",
      "t= 1\n",
      "------\n",
      "state: 0 tiger_right\n",
      "last_observation: 0\n",
      "-------------------------------\n",
      "\n",
      "current internal state: [0.0, 0.0, 0.7, 0.0, 0.0, 0.0, 0.0, 0.30000000000000004, 0.0, 0.0]\n",
      "\n",
      "             action: open_left_low\n",
      "             **\n",
      "reward: 1.0 new observation: 1\n",
      "\n",
      "new internal state: [0.0, 0.0, 0.0, 0.0, 0.0, 0.0, 0.0, 0.15000000000000002, 0.0, 0.0, 0.0, 0.0, 0.0, 0.0, 0.0, 0.35, 0.0, 0.0, 0.0, 0.0, 0.0, 0.0, 0.0, 0.0, 0.0, 0.0, 0.0, 0.0, 0.0, 0.0, 0.0, 0.0, 0.15000000000000002, 0.0, 0.0, 0.0, 0.0, 0.0, 0.0, 0.0, 0.35, 0.0, 0.0, 0.0, 0.0, 0.0, 0.0, 0.0, 0.0, 0.0]\n",
      "\n",
      "============================\n"
     ]
    }
   ],
   "source": [
    "###############    Environment\n",
    "e.reset()\n",
    "initial_observation=e.current_state\n",
    "observation=initial_observation\n",
    "state=e.current_state\n",
    "##############       Agent\n",
    "# Create the agent\n",
    "ag=Bauerle_Rieder_agent(environment=e, num_of_Mu_chunks=2,max_iterations=max_depth)\n",
    "\n",
    "# Run its value iteration\n",
    "b_S,b_reachables,b_map,b_q_func,b_value_function,b_action_func=ag.continious_optimized_planning(initial_mu_state=initial_Mu,initial_wealth=0,exp_weights=exp_weights,exp_vorfaktoren=exp_vorfaktoren)\n",
    "\n",
    "# reset the agent \n",
    "ag.ch_reset(initial_mu_state=initial_Mu,initial_observation=initial_observation,initial_wealth=initial_wealth)\n",
    "\n",
    "#############         Simulation\n",
    "\n",
    "for t in range(planning_depth):\n",
    "    \n",
    "    print('t=',t)\n",
    "    print('------')\n",
    "    print('state:',state,e.states[state])\n",
    "    print('last_observation:',observation)\n",
    "    print('-------------------------------')\n",
    "    print('')\n",
    "    print('current internal state:',ag.current_internal_belief)\n",
    "    print('')\n",
    "    \n",
    "    # agent select the action\n",
    "    action,value_of_action,_=ag.ch_do_action()\n",
    "    \n",
    "    #environment feedback\n",
    "    t1,t2,state,reward,observation=e.step(num_to_act[action])\n",
    "    \n",
    "    # agent update\n",
    "    new_x=ag.ch_update_agent(new_observation=observation) \n",
    "    \n",
    "    print('             action:',num_to_act[action])  \n",
    "    print ('             **' )\n",
    "    print('reward:',reward,'new observation:',observation)\n",
    "    print('')\n",
    "    print('new internal state:', ag.current_internal_belief)\n",
    "    print('')\n",
    "    print('============================')"
   ]
  },
  {
   "cell_type": "markdown",
   "id": "dd8367a1-f1c5-4a74-a2b1-ec83ecef9064",
   "metadata": {},
   "source": [
    "### Multi Variate (Multi Objective)"
   ]
  },
  {
   "cell_type": "code",
   "execution_count": 9,
   "id": "49dd9273-fcff-42ca-9f10-205decf268b1",
   "metadata": {},
   "outputs": [],
   "source": [
    "planning_depth=2\n",
    "partitioning_chunk_number=1000\n",
    "exp_vorfaktoren=[-1,0.1]\n",
    "exp_weights=[-1,1]\n",
    "initial_theta=[0.5,0.5]\n",
    "modes=['discrete_optimized','naive','cheating']"
   ]
  },
  {
   "cell_type": "code",
   "execution_count": 11,
   "id": "39f0a997-8f36-40df-81b0-1ab59bd1348b",
   "metadata": {},
   "outputs": [],
   "source": [
    "ag=Multi_Variate_agent(environment=e, planning_depth=planning_depth, partitioning_chunk_number=partitioning_chunk_number,agent_mode='cheating')\n",
    "ag.reset()\n",
    "mo_x_map,mo_M,mo_F,mo_G,mo_reachables,mo_value_function_zero,mo_all_thetas=ag.pre_planning(exp_vorfaktoren=exp_vorfaktoren,exp_weights=exp_weights, initial_theta=initial_theta,initial_observation=initial_observation)\n",
    "mo_value_func,mo_action_func,mo_q_func,vf2=ag.value_iteration()"
   ]
  },
  {
   "cell_type": "code",
   "execution_count": 12,
   "id": "fbf70547-8ff5-4e77-bc1c-03ea908556c5",
   "metadata": {},
   "outputs": [
    {
     "name": "stdout",
     "output_type": "stream",
     "text": [
      "t= 0\n",
      "------\n",
      "state: 1 tiger_left\n",
      "last_observation: 1\n",
      "-------------------------------\n",
      "\n",
      "current internal state: [0.5, 0.5, 0.5, 0.5, 0]\n",
      "\n",
      "             action: listen\n",
      "             **\n",
      "reward: -0.5 new observation: 0\n",
      "\n",
      "new internal state: [0.7, 0.3, 0.7, 0.3, 0]\n",
      "\n",
      "============================\n",
      "t= 1\n",
      "------\n",
      "state: 1 tiger_left\n",
      "last_observation: 0\n",
      "-------------------------------\n",
      "\n",
      "current internal state: [0.7, 0.3, 0.7, 0.3, 0]\n",
      "\n",
      "             action: open_left_low\n",
      "             **\n",
      "reward: -1.0 new observation: 1\n",
      "\n",
      "new internal state: [0.5, 0.5, 0.5, 0.5, 1]\n",
      "\n",
      "============================\n"
     ]
    }
   ],
   "source": [
    "###############    Environment\n",
    "e.reset()\n",
    "initial_observation=e.current_state\n",
    "observation=initial_observation\n",
    "state=e.current_state\n",
    "\n",
    "##############     Agent (above)\n",
    "\n",
    "##############       Simulation\n",
    "for t in range(planning_depth):\n",
    "    \n",
    "    print('t=',t)\n",
    "    print('------')\n",
    "    print('state:',state,e.states[state])\n",
    "    print('last_observation:',observation)\n",
    "    print('-------------------------------')\n",
    "    print('')\n",
    "    print('current internal state:',ag.current_internal_state)\n",
    "    print('')\n",
    "    \n",
    "    # agent select the action\n",
    "    action,value_of_action=ag.do_action()\n",
    "    \n",
    "    #environment feedback\n",
    "    t1,t2,state,reward,observation=e.step(num_to_act[action])\n",
    "    \n",
    "    # agent update\n",
    "    new_x=ag.update_agent(new_observation=observation) \n",
    "    \n",
    "    print('             action:',num_to_act[action])  \n",
    "    print ('             **' )\n",
    "    print('reward:',reward,'new observation:',observation)\n",
    "    print('')\n",
    "    print('new internal state:', ag.current_internal_state)\n",
    "    print('')\n",
    "    print('============================')"
   ]
  },
  {
   "cell_type": "code",
   "execution_count": null,
   "id": "cfaee7ad-e36a-4913-b16b-14997b2193b7",
   "metadata": {},
   "outputs": [],
   "source": []
  }
 ],
 "metadata": {
  "kernelspec": {
   "display_name": "Python 3 (ipykernel)",
   "language": "python",
   "name": "python3"
  },
  "language_info": {
   "codemirror_mode": {
    "name": "ipython",
    "version": 3
   },
   "file_extension": ".py",
   "mimetype": "text/x-python",
   "name": "python",
   "nbconvert_exporter": "python",
   "pygments_lexer": "ipython3",
   "version": "3.8.10"
  }
 },
 "nbformat": 4,
 "nbformat_minor": 5
}
