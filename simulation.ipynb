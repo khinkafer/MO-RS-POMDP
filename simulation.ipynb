{
 "cells": [
  {
   "cell_type": "code",
   "execution_count": 51,
   "metadata": {},
   "outputs": [],
   "source": [
    "import random\n",
    "import agent as agent\n",
    "from env import *"
   ]
  },
  {
   "cell_type": "markdown",
   "metadata": {},
   "source": [
    "Parameters"
   ]
  },
  {
   "cell_type": "code",
   "execution_count": 59,
   "metadata": {},
   "outputs": [],
   "source": [
    "maximum_depth=3\n",
    "num_of_Mu_chunks=3"
   ]
  },
  {
   "cell_type": "markdown",
   "metadata": {},
   "source": [
    "Make an instance of tiger porblem environment"
   ]
  },
  {
   "cell_type": "code",
   "execution_count": 60,
   "metadata": {},
   "outputs": [],
   "source": [
    "e=tiger_POMDP_env(read_config=True,config_address='./tiger.json',parameters=None)\n"
   ]
  },
  {
   "cell_type": "markdown",
   "metadata": {},
   "source": [
    "make an instance of Bauerle and Rieder agent"
   ]
  },
  {
   "cell_type": "code",
   "execution_count": 61,
   "metadata": {},
   "outputs": [],
   "source": [
    "ag=agent.Bauerle_Rieder_agent(environment=e, num_of_Mu_chunks=num_of_Mu_chunks,max_iterations=maximum_depth)"
   ]
  },
  {
   "cell_type": "markdown",
   "metadata": {},
   "source": [
    "<b>value iteration</b><br>\n",
    "    1. Preparation of files and needed things"
   ]
  },
  {
   "cell_type": "code",
   "execution_count": null,
   "metadata": {},
   "outputs": [],
   "source": [
    "ag.pre_planning_paration(make_and_save_Mu=True,save_Mu2index_chunks=True)"
   ]
  },
  {
   "cell_type": "markdown",
   "metadata": {},
   "source": [
    "2.value-iteration<br>\n",
    "<br>\n",
    "Its result are in value_function, action_function, and step_indexes attributes"
   ]
  },
  {
   "cell_type": "code",
   "execution_count": 56,
   "metadata": {
    "collapsed": true,
    "jupyter": {
     "outputs_hidden": true
    }
   },
   "outputs": [
    {
     "name": "stdout",
     "output_type": "stream",
     "text": [
      "step: 2\n",
      "==== iterations\n",
      "step: 1\n",
      "x: 0 a: 0\n",
      "x: 0 a: 1\n",
      "x: 0 a: 2\n",
      "x: 0 a: 3\n",
      "x: 0 a: 4\n",
      "x: 1 a: 0\n",
      "x: 1 a: 1\n",
      "x: 1 a: 2\n",
      "x: 1 a: 3\n",
      "x: 1 a: 4\n",
      "------\n",
      "step: 0\n",
      "x: 0 a: 0\n",
      "x: 0 a: 1\n",
      "x: 0 a: 2\n",
      "x: 0 a: 3\n",
      "x: 0 a: 4\n",
      "x: 1 a: 0\n",
      "x: 1 a: 1\n",
      "x: 1 a: 2\n",
      "x: 1 a: 3\n",
      "x: 1 a: 4\n",
      "------\n"
     ]
    }
   ],
   "source": [
    "ag.value_iteration(utility_function='risk-neutral')"
   ]
  },
  {
   "cell_type": "markdown",
   "metadata": {},
   "source": [
    "=========="
   ]
  },
  {
   "cell_type": "markdown",
   "metadata": {},
   "source": [
    "<b>Simulation"
   ]
  },
  {
   "cell_type": "markdown",
   "metadata": {},
   "source": [
    "After using value iteration, we have computed anything. So, we need to update our agent beliefs by interacting with environment.<br>\n",
    "We have two essential functions here: do_action() and update_agent() "
   ]
  },
  {
   "cell_type": "markdown",
   "metadata": {},
   "source": [
    "An experiment with depth 2 and 3 chunk points"
   ]
  },
  {
   "cell_type": "code",
   "execution_count": 58,
   "metadata": {},
   "outputs": [
    {
     "name": "stdout",
     "output_type": "stream",
     "text": [
      "t= 0\n",
      "----\n",
      "state: 0 observation: 0 action: 4\n",
      "reward: -2.0\n",
      "t= 1\n",
      "----\n",
      "state: 1 observation: 0 action: 3\n",
      "reward: 2.0\n"
     ]
    }
   ],
   "source": [
    "maximum_depth=2\n",
    "\n",
    "num_to_act=dict(zip(list(e.actions.values()),list(e.actions.keys())))\n",
    "\n",
    "# reset the agent with random starting x and probability of P(y=0 and s=0)=1/3 and P(y=1 and s=0)=2/3\n",
    "ag.reset(y0_prob=1./3,initiative_observation=random.randint(0,1))\n",
    "\n",
    "for t in range(maximum_depth):\n",
    "    action,value,belief=ag.do_action()   \n",
    "    t1,t2,state,reward,observation=e.step(num_to_act[action])\n",
    "    ag.update_agent(new_observation=observation)\n",
    "    print('t=',t)\n",
    "    print('----')\n",
    "    print('state:',e.current_state,'observation:',ag.current_internal_x, 'action:',action )\n",
    "    print('reward:',reward)"
   ]
  },
  {
   "cell_type": "code",
   "execution_count": null,
   "metadata": {},
   "outputs": [],
   "source": []
  }
 ],
 "metadata": {
  "kernelspec": {
   "display_name": "Python 3",
   "language": "python",
   "name": "python3"
  },
  "language_info": {
   "codemirror_mode": {
    "name": "ipython",
    "version": 3
   },
   "file_extension": ".py",
   "mimetype": "text/x-python",
   "name": "python",
   "nbconvert_exporter": "python",
   "pygments_lexer": "ipython3",
   "version": "3.7.6"
  }
 },
 "nbformat": 4,
 "nbformat_minor": 4
}
