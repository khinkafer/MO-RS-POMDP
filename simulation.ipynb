{
 "cells": [
  {
   "cell_type": "code",
   "execution_count": 1,
   "metadata": {},
   "outputs": [],
   "source": [
    "import random\n",
    "import agent as agent\n",
    "from env import *\n",
    "import scipy.special\n",
    "import time"
   ]
  },
  {
   "cell_type": "markdown",
   "metadata": {},
   "source": [
    "Parameters"
   ]
  },
  {
   "cell_type": "code",
   "execution_count": 22,
   "metadata": {},
   "outputs": [],
   "source": [
    "maximum_depth=3\n",
    "num_of_Mu_chunks=1"
   ]
  },
  {
   "cell_type": "markdown",
   "metadata": {},
   "source": [
    "Make an instance of tiger porblem environment"
   ]
  },
  {
   "cell_type": "code",
   "execution_count": 23,
   "metadata": {},
   "outputs": [],
   "source": [
    "e=tiger_POMDP_env(read_config=True,config_address='./tiger.json',parameters=None)"
   ]
  },
  {
   "cell_type": "markdown",
   "metadata": {},
   "source": [
    "make an instance of Bauerle and Rieder agent"
   ]
  },
  {
   "cell_type": "code",
   "execution_count": 24,
   "metadata": {},
   "outputs": [],
   "source": [
    "ag=agent.Bauerle_Rieder_agent(environment=e, num_of_Mu_chunks=num_of_Mu_chunks,max_iterations=maximum_depth)"
   ]
  },
  {
   "cell_type": "code",
   "execution_count": 25,
   "metadata": {
    "scrolled": true
   },
   "outputs": [
    {
     "name": "stdout",
     "output_type": "stream",
     "text": [
      "RWRD [-2.  -1.  -0.5  1.   2. ]\n",
      "WLTH [-6.  -5.  -4.5 -4.  -3.5 -3.  -2.5 -2.  -1.5 -1.  -0.5  0.   0.5  1.\n",
      "  1.5  2.   2.5  3.   3.5  4.   5.   6. ] 22\n",
      "CHUNK [[1 0 0 ... 0 0 0]\n",
      " [0 1 0 ... 0 0 0]\n",
      " [0 0 1 ... 0 0 0]\n",
      " ...\n",
      " [0 0 0 ... 1 0 0]\n",
      " [0 0 0 ... 0 1 0]\n",
      " [0 0 0 ... 0 0 1]] (44, 44)\n"
     ]
    },
    {
     "data": {
      "text/plain": [
       "44"
      ]
     },
     "execution_count": 25,
     "metadata": {},
     "output_type": "execute_result"
    }
   ],
   "source": [
    "# generate_possible_wealths(np.unique(self.env.rewards),self.initial_wealth,self.env.discount_factor,self.max_time_step)\n",
    "\n",
    "wlth = ag.generate_possible_wealths(np.unique(e.rewards),0,1,maximum_depth)\n",
    "print(\"RWRD\",np.unique(e.rewards))\n",
    "print(\"WLTH\",wlth,len(wlth))\n",
    "chunk = ag.chunk_mu([0,1],wlth,num_of_Mu_chunks)\n",
    "print(\"CHUNK\",chunk,chunk.shape)\n",
    "len(chunk)"
   ]
  },
  {
   "cell_type": "code",
   "execution_count": 26,
   "metadata": {},
   "outputs": [
    {
     "name": "stdout",
     "output_type": "stream",
     "text": [
      "Took: 2.65\n"
     ]
    }
   ],
   "source": [
    "start = time.time()\n",
    "ag.pre_planning_paration(make_and_save_Mu=True,save_Mu2index_chunks=True)\n",
    "end = time.time()\n",
    "print(\"Took:\",np.round(end-start,2))\n"
   ]
  },
  {
   "cell_type": "code",
   "execution_count": 27,
   "metadata": {
    "jupyter": {
     "outputs_hidden": true
    },
    "scrolled": true
   },
   "outputs": [
    {
     "name": "stdout",
     "output_type": "stream",
     "text": [
      "step: 3\n",
      "==== iterations\n",
      "Self.S [-5.6  -4.7  -4.6  -4.25 -4.1  -3.8  -3.7  -3.7  -3.6  -3.35 -3.25 -3.2\n",
      " -3.2  -2.9  -2.9  -2.8  -2.75 -2.7  -2.6  -2.45 -2.35 -2.3  -2.25 -2.\n",
      " -2.   -1.9  -1.85 -1.85 -1.8  -1.7  -1.6  -1.55 -1.55 -1.45 -1.4  -1.35\n",
      " -1.25 -1.1  -1.1  -1.   -1.   -1.   -0.95 -0.9  -0.8  -0.7  -0.7  -0.65\n",
      " -0.65 -0.55 -0.55 -0.5  -0.5  -0.5  -0.45 -0.35 -0.35 -0.25 -0.25 -0.2\n",
      " -0.2  -0.1  -0.1  -0.05 -0.05  0.    0.1   0.1   0.1   0.2   0.2   0.35\n",
      "  0.35  0.4   0.4   0.45  0.55  0.65  0.65  0.7   0.7   0.8   0.85  0.9\n",
      "  1.    1.    1.    1.1   1.1   1.3   1.35  1.45  1.45  1.55  1.6   1.7\n",
      "  1.8   1.9   2.    2.    2.2   2.35  2.35  2.45  2.45  2.6   2.7   2.8\n",
      "  2.9   2.9   3.1   3.35  3.35  3.6   3.7   3.7   3.8   4.6   4.7   5.6 ]\n",
      "step: 2\n",
      "(5, 72)\n",
      "a: 0\n",
      "int_mus [[0 0 0 ... 0 0 0]\n",
      " [0 0 0 ... 0 0 0]\n",
      " [0 0 0 ... 0 0 0]\n",
      " ...\n",
      " [0 0 0 ... 0 0 0]\n",
      " [0 0 0 ... 0 0 0]\n",
      " [0 0 0 ... 0 0 0]] possible [-3.8  -2.9  -2.8  -2.45 -2.3  -2.   -1.9  -1.8  -1.45 -1.4  -1.1  -1.\n",
      " -0.95 -0.9  -0.8  -0.5  -0.45 -0.2  -0.1   0.    0.1   0.2   0.4   0.55\n",
      "  0.8   0.9   1.    1.1   1.3   1.55  1.8   1.9   2.    2.8   2.9   3.8 ]\n",
      "CMU [[0 0 0 ... 0 0 0]\n",
      " [0 0 0 ... 0 0 0]\n",
      " [0 0 0 ... 0 0 0]\n",
      " ...\n",
      " [0 0 0 ... 0 0 0]\n",
      " [0 0 0 ... 0 0 0]\n",
      " [0 0 0 ... 0 0 0]]\n"
     ]
    },
    {
     "ename": "ValueError",
     "evalue": "shape mismatch: value array of shape (72,36) could not be broadcast to indexing result of shape (0,72)",
     "output_type": "error",
     "traceback": [
      "\u001b[0;31m---------------------------------------------------------------------------\u001b[0m",
      "\u001b[0;31mValueError\u001b[0m                                Traceback (most recent call last)",
      "\u001b[0;32m<ipython-input-27-1e8572b69718>\u001b[0m in \u001b[0;36m<module>\u001b[0;34m\u001b[0m\n\u001b[0;32m----> 1\u001b[0;31m \u001b[0mxa\u001b[0m \u001b[0;34m=\u001b[0m \u001b[0mag\u001b[0m\u001b[0;34m.\u001b[0m\u001b[0mvalue_iteration\u001b[0m\u001b[0;34m(\u001b[0m\u001b[0mutility_function\u001b[0m\u001b[0;34m=\u001b[0m\u001b[0;34m'risk-neutral'\u001b[0m\u001b[0;34m)\u001b[0m\u001b[0;34m\u001b[0m\u001b[0;34m\u001b[0m\u001b[0m\n\u001b[0m",
      "\u001b[0;32m~/Documents/POMDP/MO-RS-POMDP/agent.py\u001b[0m in \u001b[0;36mvalue_iteration\u001b[0;34m(self, utility_function)\u001b[0m\n\u001b[1;32m    172\u001b[0m                 \u001b[0;31m# any other time-step\u001b[0m\u001b[0;34m\u001b[0m\u001b[0;34m\u001b[0m\u001b[0;34m\u001b[0m\u001b[0m\n\u001b[1;32m    173\u001b[0m \u001b[0;34m\u001b[0m\u001b[0m\n\u001b[0;32m--> 174\u001b[0;31m                 \u001b[0mresult\u001b[0m \u001b[0;34m=\u001b[0m  \u001b[0mself\u001b[0m\u001b[0;34m.\u001b[0m\u001b[0mtimeStep_value_calculator\u001b[0m\u001b[0;34m(\u001b[0m\u001b[0mtime_step\u001b[0m\u001b[0;34m)\u001b[0m\u001b[0;34m\u001b[0m\u001b[0;34m\u001b[0m\u001b[0m\n\u001b[0m\u001b[1;32m    175\u001b[0m                 \u001b[0;32mif\u001b[0m\u001b[0;34m(\u001b[0m\u001b[0mtime_step\u001b[0m\u001b[0;34m==\u001b[0m\u001b[0;36m0\u001b[0m\u001b[0;34m)\u001b[0m\u001b[0;34m:\u001b[0m\u001b[0;34m\u001b[0m\u001b[0;34m\u001b[0m\u001b[0m\n\u001b[1;32m    176\u001b[0m                     \u001b[0;32mreturn\u001b[0m \u001b[0mresult\u001b[0m\u001b[0;34m\u001b[0m\u001b[0;34m\u001b[0m\u001b[0m\n",
      "\u001b[0;32m~/Documents/POMDP/MO-RS-POMDP/agent.py\u001b[0m in \u001b[0;36mtimeStep_value_calculator\u001b[0;34m(self, time_step)\u001b[0m\n\u001b[1;32m    744\u001b[0m             \u001b[0mprint\u001b[0m\u001b[0;34m(\u001b[0m\u001b[0;34m'a:'\u001b[0m\u001b[0;34m,\u001b[0m\u001b[0maction\u001b[0m\u001b[0;34m)\u001b[0m\u001b[0;34m\u001b[0m\u001b[0;34m\u001b[0m\u001b[0m\n\u001b[1;32m    745\u001b[0m             \u001b[0mprint\u001b[0m\u001b[0;34m(\u001b[0m\u001b[0;34m\"int_mus\"\u001b[0m\u001b[0;34m,\u001b[0m\u001b[0mint_mus\u001b[0m\u001b[0;34m,\u001b[0m\u001b[0;34m\"possible\"\u001b[0m\u001b[0;34m,\u001b[0m\u001b[0mcurrent_possible_s\u001b[0m\u001b[0;34m)\u001b[0m\u001b[0;34m\u001b[0m\u001b[0;34m\u001b[0m\u001b[0m\n\u001b[0;32m--> 746\u001b[0;31m             \u001b[0mXA_vals\u001b[0m\u001b[0;34m[\u001b[0m\u001b[0maction\u001b[0m\u001b[0;34m]\u001b[0m\u001b[0;34m=\u001b[0m\u001b[0mself\u001b[0m\u001b[0;34m.\u001b[0m\u001b[0mXA_value_calculator\u001b[0m\u001b[0;34m(\u001b[0m\u001b[0;36m0\u001b[0m\u001b[0;34m,\u001b[0m\u001b[0maction\u001b[0m\u001b[0;34m,\u001b[0m\u001b[0mint_mus\u001b[0m\u001b[0;34m,\u001b[0m\u001b[0mtime_step\u001b[0m\u001b[0;34m,\u001b[0m\u001b[0mcurrent_possible_s\u001b[0m\u001b[0;34m)\u001b[0m\u001b[0;34m\u001b[0m\u001b[0;34m\u001b[0m\u001b[0m\n\u001b[0m\u001b[1;32m    747\u001b[0m \u001b[0;34m\u001b[0m\u001b[0m\n\u001b[1;32m    748\u001b[0m         \u001b[0mbest_values\u001b[0m\u001b[0;34m=\u001b[0m\u001b[0mnp\u001b[0m\u001b[0;34m.\u001b[0m\u001b[0mmax\u001b[0m\u001b[0;34m(\u001b[0m\u001b[0mXA_vals\u001b[0m\u001b[0;34m,\u001b[0m \u001b[0maxis\u001b[0m\u001b[0;34m=\u001b[0m\u001b[0;36m0\u001b[0m\u001b[0;34m)\u001b[0m\u001b[0;34m\u001b[0m\u001b[0;34m\u001b[0m\u001b[0m\n",
      "\u001b[0;32m~/Documents/POMDP/MO-RS-POMDP/agent.py\u001b[0m in \u001b[0;36mXA_value_calculator\u001b[0;34m(self, x, action, current_possible_mu, time_step, current_possible_s)\u001b[0m\n\u001b[1;32m    674\u001b[0m             \u001b[0;31m# VALUE of the next internal-state\u001b[0m\u001b[0;34m\u001b[0m\u001b[0;34m\u001b[0m\u001b[0;34m\u001b[0m\u001b[0m\n\u001b[1;32m    675\u001b[0m             \u001b[0mprint\u001b[0m\u001b[0;34m(\u001b[0m\u001b[0;34m\"CMU\"\u001b[0m\u001b[0;34m,\u001b[0m\u001b[0mcurrent_possible_mu\u001b[0m\u001b[0;34m)\u001b[0m\u001b[0;34m\u001b[0m\u001b[0;34m\u001b[0m\u001b[0m\n\u001b[0;32m--> 676\u001b[0;31m             \u001b[0mnext_int_mu\u001b[0m\u001b[0;34m=\u001b[0m\u001b[0mself\u001b[0m\u001b[0;34m.\u001b[0m\u001b[0msay_calculator\u001b[0m\u001b[0;34m(\u001b[0m\u001b[0mx\u001b[0m\u001b[0;34m,\u001b[0m\u001b[0maction\u001b[0m\u001b[0;34m,\u001b[0m\u001b[0mx_prim\u001b[0m\u001b[0;34m,\u001b[0m\u001b[0mcurrent_possible_mu\u001b[0m\u001b[0;34m,\u001b[0m\u001b[0mz\u001b[0m\u001b[0;34m,\u001b[0m\u001b[0mcurrent_possible_s\u001b[0m\u001b[0;34m)\u001b[0m\u001b[0;34m\u001b[0m\u001b[0;34m\u001b[0m\u001b[0m\n\u001b[0m\u001b[1;32m    677\u001b[0m \u001b[0;34m\u001b[0m\u001b[0m\n\u001b[1;32m    678\u001b[0m             \u001b[0;31m#print(\"next_int\",next_int_mu,x_prim,x,action)\u001b[0m\u001b[0;34m\u001b[0m\u001b[0;34m\u001b[0m\u001b[0;34m\u001b[0m\u001b[0m\n",
      "\u001b[0;32m~/Documents/POMDP/MO-RS-POMDP/agent.py\u001b[0m in \u001b[0;36msay_calculator\u001b[0;34m(self, x, action, x_prim, current_int_mu, z, current_possible_s)\u001b[0m\n\u001b[1;32m    529\u001b[0m             \u001b[0;31m#assign Mu-probability to each possible S(=previous_s + c) point\u001b[0m\u001b[0;34m\u001b[0m\u001b[0;34m\u001b[0m\u001b[0;34m\u001b[0m\u001b[0m\n\u001b[1;32m    530\u001b[0m             \u001b[0;31m# for S points in y_prim=0\u001b[0m\u001b[0;34m\u001b[0m\u001b[0;34m\u001b[0m\u001b[0;34m\u001b[0m\u001b[0m\n\u001b[0;32m--> 531\u001b[0;31m             \u001b[0mnext_mus\u001b[0m\u001b[0;34m[\u001b[0m\u001b[0my\u001b[0m\u001b[0;34m]\u001b[0m\u001b[0;34m[\u001b[0m\u001b[0;34m:\u001b[0m\u001b[0;34m,\u001b[0m\u001b[0mnext_s_indexes\u001b[0m\u001b[0;34m]\u001b[0m\u001b[0;34m=\u001b[0m\u001b[0my_mus\u001b[0m\u001b[0;34m[\u001b[0m\u001b[0;34m:\u001b[0m\u001b[0;34m,\u001b[0m\u001b[0mcurrent_s_indexes\u001b[0m\u001b[0;34m]\u001b[0m\u001b[0;34m\u001b[0m\u001b[0;34m\u001b[0m\u001b[0m\n\u001b[0m\u001b[1;32m    532\u001b[0m             \u001b[0;31m# for S points in y_prim=1\u001b[0m\u001b[0;34m\u001b[0m\u001b[0;34m\u001b[0m\u001b[0;34m\u001b[0m\u001b[0m\n\u001b[1;32m    533\u001b[0m             \u001b[0mnext_mus\u001b[0m\u001b[0;34m[\u001b[0m\u001b[0my\u001b[0m\u001b[0;34m]\u001b[0m\u001b[0;34m[\u001b[0m\u001b[0;34m:\u001b[0m\u001b[0;34m,\u001b[0m\u001b[0mnext_s_indexes\u001b[0m\u001b[0;34m+\u001b[0m\u001b[0mlen\u001b[0m\u001b[0;34m(\u001b[0m\u001b[0mself\u001b[0m\u001b[0;34m.\u001b[0m\u001b[0mS\u001b[0m\u001b[0;34m)\u001b[0m\u001b[0;34m]\u001b[0m\u001b[0;34m=\u001b[0m\u001b[0my_mus\u001b[0m\u001b[0;34m[\u001b[0m\u001b[0;34m:\u001b[0m\u001b[0;34m,\u001b[0m\u001b[0mcurrent_s_indexes\u001b[0m\u001b[0;34m+\u001b[0m\u001b[0mlen\u001b[0m\u001b[0;34m(\u001b[0m\u001b[0mself\u001b[0m\u001b[0;34m.\u001b[0m\u001b[0mS\u001b[0m\u001b[0;34m)\u001b[0m\u001b[0;34m]\u001b[0m\u001b[0;34m\u001b[0m\u001b[0;34m\u001b[0m\u001b[0m\n",
      "\u001b[0;31mValueError\u001b[0m: shape mismatch: value array of shape (72,36) could not be broadcast to indexing result of shape (0,72)"
     ]
    }
   ],
   "source": [
    "xa = ag.value_iteration(utility_function='risk-neutral')"
   ]
  },
  {
   "cell_type": "code",
   "execution_count": 11,
   "metadata": {},
   "outputs": [
    {
     "name": "stdout",
     "output_type": "stream",
     "text": [
      "149985.0\n"
     ]
    },
    {
     "data": {
      "text/plain": [
       "{0: 'sound_right', 1: 'soud_left'}"
      ]
     },
     "execution_count": 11,
     "metadata": {},
     "output_type": "execute_result"
    }
   ],
   "source": [
    "#Size of MU\n",
    "start = time.time()\n",
    "sum = 0\n",
    "for i in range(1,5):\n",
    "        sum += scipy.special.binom(44, i)\n",
    "print(sum)\n",
    "e.observations"
   ]
  },
  {
   "cell_type": "code",
   "execution_count": 12,
   "metadata": {},
   "outputs": [
    {
     "data": {
      "text/plain": [
       "12"
      ]
     },
     "execution_count": 12,
     "metadata": {},
     "output_type": "execute_result"
    }
   ],
   "source": [
    "hashset = {}\n",
    "for i in range(chunk.shape[0]):\n",
    "    hashset[hash(str(chunk[i,:]))] = 0\n",
    "len(hashset.keys())"
   ]
  },
  {
   "cell_type": "code",
   "execution_count": 11,
   "metadata": {},
   "outputs": [
    {
     "data": {
      "text/plain": [
       "array([list([1, 2]), 2, 3], dtype=object)"
      ]
     },
     "execution_count": 11,
     "metadata": {},
     "output_type": "execute_result"
    }
   ],
   "source": [
    "np.append(([1,2],2),3)"
   ]
  },
  {
   "cell_type": "code",
   "execution_count": 12,
   "metadata": {},
   "outputs": [
    {
     "data": {
      "text/plain": [
       "array([[[0.89, 0.11],\n",
       "        [0.12, 0.88]],\n",
       "\n",
       "       [[0.8 , 0.2 ],\n",
       "        [0.2 , 0.8 ]],\n",
       "\n",
       "       [[0.8 , 0.2 ],\n",
       "        [0.2 , 0.8 ]],\n",
       "\n",
       "       [[0.8 , 0.2 ],\n",
       "        [0.2 , 0.8 ]],\n",
       "\n",
       "       [[0.8 , 0.2 ],\n",
       "        [0.2 , 0.8 ]]])"
      ]
     },
     "execution_count": 12,
     "metadata": {},
     "output_type": "execute_result"
    }
   ],
   "source": [
    "e.observation_matrix"
   ]
  },
  {
   "cell_type": "code",
   "execution_count": 13,
   "metadata": {},
   "outputs": [
    {
     "data": {
      "text/plain": [
       "array([[[0.8 , 0.2 ],\n",
       "        [0.5 , 0.5 ],\n",
       "        [0.5 , 0.5 ],\n",
       "        [0.5 , 0.5 ],\n",
       "        [0.5 , 0.5 ]],\n",
       "\n",
       "       [[0.15, 0.85],\n",
       "        [0.5 , 0.5 ],\n",
       "        [0.5 , 0.5 ],\n",
       "        [0.5 , 0.5 ],\n",
       "        [0.5 , 0.5 ]]])"
      ]
     },
     "execution_count": 13,
     "metadata": {},
     "output_type": "execute_result"
    }
   ],
   "source": [
    "e.transition_matrix"
   ]
  },
  {
   "cell_type": "markdown",
   "metadata": {},
   "source": [
    "2.value-iteration<br>\n",
    "<br>\n",
    "Its result are in value_function, action_function, and step_indexes attributes"
   ]
  },
  {
   "cell_type": "code",
   "execution_count": 14,
   "metadata": {},
   "outputs": [],
   "source": [
    "#Self.S [-2.  -1.  -0.5  0.   1.   2. ]"
   ]
  },
  {
   "cell_type": "code",
   "execution_count": 64,
   "metadata": {},
   "outputs": [
    {
     "data": {
      "text/plain": [
       "-0.5"
      ]
     },
     "execution_count": 64,
     "metadata": {},
     "output_type": "execute_result"
    }
   ],
   "source": [
    "ag.value_function[-1][332]"
   ]
  },
  {
   "cell_type": "code",
   "execution_count": 16,
   "metadata": {},
   "outputs": [
    {
     "data": {
      "text/plain": [
       "[array([None, None, None, None, None, None, None, None, None, None, None,\n",
       "        None, None, None, None, None, None, None, None, 3, None, None,\n",
       "        None, None, None, None, None, None, None, None, None, None, None,\n",
       "        None, None, None, None, None, None, None, None, None, None, None,\n",
       "        None, None, None, None, None, None, None, None, None, None, None,\n",
       "        4, None, None, None, None, None, None, None, None, None, None,\n",
       "        None, None, None, None, None, None], dtype=object),\n",
       " array([None, None, None, None, None, 3, None, None, None, None, None, 3,\n",
       "        None, None, None, 3, None, None, None, 3, None, None, None, None,\n",
       "        None, None, 3, None, None, None, None, None, 3, None, None, None,\n",
       "        None, None, None, None, None, 4, None, None, None, None, None, 4,\n",
       "        None, None, None, 4, None, None, None, 4, None, None, None, None,\n",
       "        None, None, 4, None, None, None, None, None, 4, None, None, None],\n",
       "       dtype=object),\n",
       " None]"
      ]
     },
     "execution_count": 16,
     "metadata": {},
     "output_type": "execute_result"
    }
   ],
   "source": [
    "ag.action_function"
   ]
  },
  {
   "cell_type": "code",
   "execution_count": 17,
   "metadata": {},
   "outputs": [
    {
     "data": {
      "text/plain": [
       "array([[[0.89, 0.11],\n",
       "        [0.12, 0.88]],\n",
       "\n",
       "       [[0.8 , 0.2 ],\n",
       "        [0.2 , 0.8 ]],\n",
       "\n",
       "       [[0.8 , 0.2 ],\n",
       "        [0.2 , 0.8 ]],\n",
       "\n",
       "       [[0.8 , 0.2 ],\n",
       "        [0.2 , 0.8 ]],\n",
       "\n",
       "       [[0.8 , 0.2 ],\n",
       "        [0.2 , 0.8 ]]])"
      ]
     },
     "execution_count": 17,
     "metadata": {},
     "output_type": "execute_result"
    }
   ],
   "source": [
    "e.observation_matrix"
   ]
  },
  {
   "cell_type": "code",
   "execution_count": 18,
   "metadata": {},
   "outputs": [
    {
     "ename": "SyntaxError",
     "evalue": "invalid syntax (<ipython-input-18-0e0510a842a6>, line 2)",
     "output_type": "error",
     "traceback": [
      "\u001b[0;36m  File \u001b[0;32m\"<ipython-input-18-0e0510a842a6>\"\u001b[0;36m, line \u001b[0;32m2\u001b[0m\n\u001b[0;31m    BEST [2. 2.] [3 4]\u001b[0m\n\u001b[0m              ^\u001b[0m\n\u001b[0;31mSyntaxError\u001b[0m\u001b[0;31m:\u001b[0m invalid syntax\n"
     ]
    }
   ],
   "source": [
    "xa[:,:,:]\n",
    "BEST [2. 2.] [3 4]\n",
    "XA_vals [[[-0.5 -0.5]\n",
    "  [ 1.  -1. ]\n",
    "  [-1.   1. ]\n",
    "  [ 2.  -2. ]\n",
    "  [-2.   2. ]]\n",
    "\n",
    " [[-0.5 -0.5]\n",
    "  [ 1.  -1. ]\n",
    "  [-1.   1. ]\n",
    "  [ 2.  -2. ]\n",
    "  [-2.   2. ]]] (2, 5, 2)"
   ]
  },
  {
   "cell_type": "markdown",
   "metadata": {},
   "source": [
    "=========="
   ]
  },
  {
   "cell_type": "markdown",
   "metadata": {},
   "source": [
    "<b>Simulation"
   ]
  },
  {
   "cell_type": "markdown",
   "metadata": {},
   "source": [
    "After using value iteration, we have computed anything. So, we need to update our agent beliefs by interacting with environment.<br>\n",
    "We have two essential functions here: do_action() and update_agent() "
   ]
  },
  {
   "cell_type": "markdown",
   "metadata": {},
   "source": [
    "An experiment with depth 2 and 3 chunk points"
   ]
  },
  {
   "cell_type": "code",
   "execution_count": 21,
   "metadata": {},
   "outputs": [
    {
     "name": "stdout",
     "output_type": "stream",
     "text": [
      "Initial Observation: 0\n",
      "Step: 0 Action: 3 Value: 2.5999999999999996 Belief: 19 State: 1 Reward -2.0\n",
      "int [[ 0  0  0  0  0  0  0  0  0  0  0  0  0  0  0  0  0  0  0  0  0  0  0  0\n",
      "   0  0  0  0  0  0  0  0  6  0  0  0  0  0  0  0  0  0  0  0  0  0  0  0\n",
      "   0  0  0  0  0  0  0  0  0  0  0  0  0  0  0  0  0  0  0  0 24  0  0  0]]\n",
      "Step: 1 New State: 1 New Observation: 1 New Belief 68\n",
      "[[0 0 0 0 0 0 0 0 0 0 0 0 0 0 0 0 0 0 0 0 0 0 0 0 0 0 0 0 0 0 0 0 1 0 0 0\n",
      "  0 0 0 0 0 0 0 0 0 0 0 0 0 0 0 0 0 0 0 0 0 0 0 0 0 0 0 0 0 0 0 0 2 0 0 0]]\n",
      "Step: 1 Action: 4 Value: 2.5999999999999996 Belief: 68 State: 1 Reward 2.0\n",
      "int [[ 0  0  0  0  0  0  0  0  0  0  0  0  0  0  0  0  0  0  0  0  0  8  0  0\n",
      "   0  0  0  0  0  0  0  0  0  0  0 16  0  0  0  0  0  0  0  0  0  0  0  0\n",
      "   0  0  0  0  0  0  0  0  0  2  0  0  0  0  0  0  0  0  0  0  0  0  0  4]]\n",
      "Step: 2 New State: 1 New Observation: 0 New Belief 35\n",
      "[[0 0 0 0 0 0 0 0 0 0 0 0 0 0 0 0 0 0 0 0 0 1 0 0 0 0 0 0 0 0 0 0 0 0 0 2\n",
      "  0 0 0 0 0 0 0 0 0 0 0 0 0 0 0 0 0 0 0 0 0 0 0 0 0 0 0 0 0 0 0 0 0 0 0 0]]\n",
      "Actual Reward 0.0, Beliefed Reward: 3.8\n"
     ]
    }
   ],
   "source": [
    "get_possible_s = lambda step : ag.generate_possible_wealths(np.unique(ag.env.rewards),ag.initial_wealth,ag.env.discount_factor,step)\n",
    "\n",
    "num_to_act=dict(zip(list(e.actions.values()),list(e.actions.keys())))\n",
    "\n",
    "# reset the agent with random starting x and probability of P(y=0 and s=0)=1/3 and P(y=1 and s=0)=2/3\n",
    "init_observation = random.randint(0,1)\n",
    "print(\"Initial Observation:\",init_observation)\n",
    "ag.reset(initiative_observation=init_observation)\n",
    "\n",
    "\n",
    "max_s = list(get_possible_s(maximum_depth))*2\n",
    "acc_reward = 0\n",
    "\n",
    "for t in range(maximum_depth):\n",
    "    action,value,belief=ag.do_action()   \n",
    "    print(\"Step: {} Action: {} Value: {} Belief: {} State: {} \".format(ag.current_internal_timeStep,action,value,np.argmax(belief),e.current_state),end=\"\")\n",
    "    t1,t2,new_state,last_reward,new_observation=e.step(num_to_act[action])\n",
    "    print(\"Reward {}\".format(last_reward))\n",
    "    \n",
    "    acc_reward += last_reward\n",
    "    \n",
    "    ag.update_agent(new_observation)\n",
    "\n",
    "    print('Step: {} New State: {} New Observation: {} New Belief {}'.format(ag.current_internal_timeStep,e.current_state,new_observation,np.argmax(ag.current_internal_belief)))\n",
    "    print(ag.current_internal_belief)\n",
    "\n",
    "print(\"Actual Reward {}, Beliefed Reward: {}\".format(acc_reward,max_s[np.argmax(ag.current_internal_belief)]))\n",
    "\n",
    "    \n",
    "    "
   ]
  },
  {
   "cell_type": "code",
   "execution_count": null,
   "metadata": {},
   "outputs": [],
   "source": []
  },
  {
   "cell_type": "code",
   "execution_count": 35,
   "metadata": {},
   "outputs": [
    {
     "name": "stdout",
     "output_type": "stream",
     "text": [
      "Possible S [0]\n",
      "[[0 0 2 0 0 0 0 0 1 0 0 0]]\n"
     ]
    }
   ],
   "source": [
    "#[0 0 0 2 0 0 0 0 0 1 0 0]\n",
    "belief=[0., 0., 0., 0., 0., 0., 0., 0., 0., 3., 0., 0.]\n",
    "step = 0\n",
    "\n",
    "print('Possible S',get_possible_s(step))\n",
    "\n",
    "result=ag.say_calculator(x=0,\n",
    "                           action=0,\n",
    "                           x_prim=0,\n",
    "                           current_int_mu=np.array([belief]),\n",
    "                           z=np.power(ag.env.gamma,step),\n",
    "                           current_possible_s=get_possible_s(step))\n",
    "print(result)"
   ]
  },
  {
   "cell_type": "code",
   "execution_count": 213,
   "metadata": {},
   "outputs": [
    {
     "data": {
      "text/plain": [
       "[array([None, None, None, 2.0, None, None, None, None, None, 2.0, None,\n",
       "        None], dtype=object),\n",
       " array([-2. , -1. , -0.5,  0. ,  1. ,  2. , -2. , -1. , -0.5,  0. ,  1. ,\n",
       "         2. ])]"
      ]
     },
     "execution_count": 213,
     "metadata": {},
     "output_type": "execute_result"
    }
   ],
   "source": [
    "ag.value_function"
   ]
  },
  {
   "cell_type": "code",
   "execution_count": 58,
   "metadata": {},
   "outputs": [
    {
     "name": "stdout",
     "output_type": "stream",
     "text": [
      "Possible S [-3.8  -2.9  -2.8  -2.45 -2.3  -2.   -1.9  -1.8  -1.45 -1.4  -1.1  -1.\n",
      " -0.95 -0.9  -0.8  -0.5  -0.45 -0.2  -0.1   0.    0.1   0.2   0.4   0.55\n",
      "  0.8   0.9   1.    1.1   1.3   1.55  1.8   1.9   2.    2.8   2.9   3.8 ]\n"
     ]
    }
   ],
   "source": [
    "print('Possible S',get_possible_s(2))"
   ]
  },
  {
   "cell_type": "code",
   "execution_count": 18,
   "metadata": {},
   "outputs": [
    {
     "data": {
      "text/plain": [
       "1"
      ]
     },
     "execution_count": 18,
     "metadata": {},
     "output_type": "execute_result"
    }
   ],
   "source": [
    "ag.num_of_PDF_chunks"
   ]
  },
  {
   "cell_type": "code",
   "execution_count": 57,
   "metadata": {},
   "outputs": [
    {
     "data": {
      "text/plain": [
       "1"
      ]
     },
     "execution_count": 57,
     "metadata": {},
     "output_type": "execute_result"
    }
   ],
   "source": [
    "random.randint(0,1)"
   ]
  },
  {
   "cell_type": "code",
   "execution_count": 18,
   "metadata": {},
   "outputs": [
    {
     "data": {
      "text/plain": [
       "array([[ 0,  0, 10,  0,  0,  0,  0,  0, 20,  0,  0,  0]])"
      ]
     },
     "execution_count": 18,
     "metadata": {},
     "output_type": "execute_result"
    }
   ],
   "source": [
    "ag.nearest_grid_points(np.array([[ 0 , 0 ,10 , 0,  0  ,0,  0 , 0, 20 , 0 , 0 , 0]]))"
   ]
  },
  {
   "cell_type": "code",
   "execution_count": null,
   "metadata": {},
   "outputs": [],
   "source": []
  }
 ],
 "metadata": {
  "kernelspec": {
   "display_name": "Python 3",
   "language": "python",
   "name": "python3"
  },
  "language_info": {
   "codemirror_mode": {
    "name": "ipython",
    "version": 3
   },
   "file_extension": ".py",
   "mimetype": "text/x-python",
   "name": "python",
   "nbconvert_exporter": "python",
   "pygments_lexer": "ipython3",
   "version": "3.7.6"
  }
 },
 "nbformat": 4,
 "nbformat_minor": 4
}
