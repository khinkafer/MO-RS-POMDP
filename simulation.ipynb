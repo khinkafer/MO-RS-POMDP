{
 "cells": [
  {
   "cell_type": "code",
   "execution_count": 1,
   "metadata": {},
   "outputs": [],
   "source": [
    "import random\n",
    "import agent as agent\n",
    "from env import *"
   ]
  },
  {
   "cell_type": "markdown",
   "metadata": {},
   "source": [
    "Parameters"
   ]
  },
  {
   "cell_type": "code",
   "execution_count": 13,
   "metadata": {},
   "outputs": [],
   "source": [
    "maximum_depth=2\n",
    "num_of_Mu_chunks=6"
   ]
  },
  {
   "cell_type": "markdown",
   "metadata": {},
   "source": [
    "Make an instance of tiger porblem environment"
   ]
  },
  {
   "cell_type": "code",
   "execution_count": 14,
   "metadata": {},
   "outputs": [
    {
     "name": "stdout",
     "output_type": "stream",
     "text": [
      "{'state_change_r2l': 0.1, 'state_change_l2r': 0.1, 'false_observation_get_l_while_r': 0.3, 'false_observation_get_r_while_l': 0.3, 'reward_listen': -0.5, 'reward_low_incorrect': -1, 'reward_high_incorrect': -2, 'reward_low_correct': 1, 'reward_high_correct': 2, 'discount_factor': 1, 'initial_wealth': 0}\n"
     ]
    }
   ],
   "source": [
    "e=tiger_POMDP_env(read_config=True,config_address='./tiger.json',parameters=None)\n"
   ]
  },
  {
   "cell_type": "markdown",
   "metadata": {},
   "source": [
    "make an instance of Bauerle and Rieder agent"
   ]
  },
  {
   "cell_type": "code",
   "execution_count": 15,
   "metadata": {},
   "outputs": [],
   "source": [
    "ag=agent.Bauerle_Rieder_agent(environment=e, num_of_Mu_chunks=num_of_Mu_chunks,max_iterations=maximum_depth)"
   ]
  },
  {
   "cell_type": "markdown",
   "metadata": {},
   "source": [
    "<b>value iteration</b><br>\n",
    "    1. Preparation of files and needed things"
   ]
  },
  {
   "cell_type": "code",
   "execution_count": 16,
   "metadata": {},
   "outputs": [],
   "source": [
    "ag.pre_planning_paration(make_and_save_Mu=True,save_Mu2index_chunks=True)"
   ]
  },
  {
   "cell_type": "markdown",
   "metadata": {},
   "source": [
    "2.value-iteration<br>\n",
    "<br>\n",
    "Its result are in value_function, action_function, and step_indexes attributes"
   ]
  },
  {
   "cell_type": "code",
   "execution_count": 17,
   "metadata": {
    "tags": []
   },
   "outputs": [
    {
     "name": "stdout",
     "output_type": "stream",
     "text": [
      "step: 2\n",
      "==== iterations\n",
      "step: 1\n",
      "------\n",
      "step: 0\n",
      "------\n"
     ]
    }
   ],
   "source": [
    "setting='d'+str(maximum_depth)+'c'+str(num_of_Mu_chunks)\n",
    "ag.value_iteration(utility_function='risk-neutral',save_results=False,load_results=True,depth_and_chunks=setting)\n",
    "#ag.value_iteration(utility_function=0.5,save_results=True,load_results=False,depth_and_chunks=setting) # risk-averse\n",
    "#ag.value_iteration(utility_function=-0.5,save_results=False,load_results=True,depth_and_chunks=setting) # risk-seeking"
   ]
  },
  {
   "cell_type": "markdown",
   "metadata": {},
   "source": [
    "=========="
   ]
  },
  {
   "cell_type": "markdown",
   "metadata": {},
   "source": [
    "## Simulation"
   ]
  },
  {
   "cell_type": "markdown",
   "metadata": {},
   "source": [
    "After using value iteration, we have computed anything. So, we need to update our agent beliefs by interacting with environment.<br>\n",
    "We have two essential functions here: do_action() and update_agent() "
   ]
  },
  {
   "cell_type": "markdown",
   "metadata": {},
   "source": [
    "An experiment with depth 2 and 8 chunk points"
   ]
  },
  {
   "cell_type": "code",
   "execution_count": 3,
   "metadata": {},
   "outputs": [
    {
     "name": "stdout",
     "output_type": "stream",
     "text": [
      "{'state_change_r2l': 0.1, 'state_change_l2r': 0.1, 'false_observation_get_l_while_r': 0.3, 'false_observation_get_r_while_l': 0.3, 'reward_listen': -0.5, 'reward_low_incorrect': -1, 'reward_high_incorrect': -2, 'reward_low_correct': 1, 'reward_high_correct': 2, 'discount_factor': 1, 'initial_wealth': 0}\n",
      "Pre-planning: 0:00:03.518067\n",
      "step: 2\n",
      "==== iterations\n",
      "step: 1\n",
      "------\n",
      "step: 0\n",
      "------\n"
     ]
    },
    {
     "name": "stderr",
     "output_type": "stream",
     "text": [
      "C:\\ProgramData\\Anaconda3\\envs\\env3\\lib\\site-packages\\numpy\\lib\\npyio.py:528: VisibleDeprecationWarning: Creating an ndarray from ragged nested sequences (which is a list-or-tuple of lists-or-tuples-or ndarrays with different lengths or shapes) is deprecated. If you meant to do this, you must specify 'dtype=object' when creating the ndarray.\n",
      "  arr = np.asanyarray(arr)\n"
     ]
    },
    {
     "name": "stdout",
     "output_type": "stream",
     "text": [
      "Value iteration: 2:36:02.049661\n"
     ]
    }
   ],
   "source": [
    "import random\n",
    "import datetime\n",
    "import time\n",
    "\n",
    "import agent as agent\n",
    "from env import *\n",
    "\n",
    "################################################################ Simulation Parameters / rest are set in the config file\n",
    "maximum_depth=2\n",
    "num_of_Mu_chunks=8\n",
    "setting='d'+str(maximum_depth)+'c'+str(num_of_Mu_chunks)\n",
    "\n",
    "################################################################ Creating environment and the agent\n",
    "e=tiger_POMDP_env(read_config=True,config_address='./tiger.json',parameters=None)\n",
    "\n",
    "ag=agent.Bauerle_Rieder_agent(environment=e, num_of_Mu_chunks=num_of_Mu_chunks,max_iterations=maximum_depth)\n",
    "\n",
    "################################################################ Pre-planning\n",
    "t=datetime.datetime.now()\n",
    "ag.pre_planning_paration(make_and_save_Mu=False,save_Mu2index_chunks=False)\n",
    "print('Pre-planning:', datetime.datetime.now()-t)\n",
    "\n",
    "################################################################ value iteration\n",
    "t=datetime.datetime.now()\n",
    "\n",
    "#ag.value_iteration(utility_function='risk-neutral',save_results=False,load_results=True,depth_and_chunks=setting)\n",
    "ag.value_iteration(utility_function=0.5,save_results=True,load_results=False,depth_and_chunks=setting) # risk-averse\n",
    "#ag.value_iteration(utility_function=-0.5,save_results=False,load_results=True,depth_and_chunks=setting) # risk-seeking\n",
    "\n",
    "print('Value iteration:', datetime.datetime.now()-t)"
   ]
  },
  {
   "cell_type": "markdown",
   "metadata": {},
   "source": [
    "================================================================================================================================"
   ]
  },
  {
   "cell_type": "code",
   "execution_count": 4,
   "metadata": {},
   "outputs": [
    {
     "name": "stdout",
     "output_type": "stream",
     "text": [
      "initial beliefs:\n",
      "[[-4.  -3.  -2.5 -2.  -1.5 -1.  -0.5  0.   0.5  1.   1.5  2.   3.   4. ]\n",
      " [ 0.   0.   0.   0.   0.   0.   0.   0.5  0.   0.   0.   0.   0.   0. ]\n",
      " [ 0.   0.   0.   0.   0.   0.   0.   0.5  0.   0.   0.   0.   0.   0. ]]\n",
      "initial internal state(observation): 0\n",
      "=======================\n",
      "t= 0\n",
      "------\n",
      "state: 0 tiger_right\n",
      "observation: 0\n",
      "belief_at_action:\n",
      "[[-4.  -3.  -2.5 -2.  -1.5 -1.  -0.5  0.   0.5  1.   1.5  2.   3.   4. ]\n",
      " [ 0.   0.   0.   0.   0.   0.   0.   0.5  0.   0.   0.   0.   0.   0. ]\n",
      " [ 0.   0.   0.   0.   0.   0.   0.   0.5  0.   0.   0.   0.   0.   0. ]]\n",
      "value_at_action:\n",
      "-0.2267011829134447\n",
      "action: listen\n",
      "**\n",
      "reward: -0.5\n",
      "new observation: 0\n",
      "new_beliefs:\n",
      "[[-4.   -3.   -2.5  -2.   -1.5  -1.   -0.5   0.    0.5   1.    1.5   2.\n",
      "   3.    4.  ]\n",
      " [ 0.    0.    0.    0.    0.    0.    0.75  0.    0.    0.    0.    0.\n",
      "   0.    0.  ]\n",
      " [ 0.    0.    0.    0.    0.    0.    0.25  0.    0.    0.    0.    0.\n",
      "   0.    0.  ]]\n",
      "=======================\n",
      "t= 1\n",
      "------\n",
      "state: 0 tiger_right\n",
      "observation: 0\n",
      "belief_at_action:\n",
      "[[-4.   -3.   -2.5  -2.   -1.5  -1.   -0.5   0.    0.5   1.    1.5   2.\n",
      "   3.    4.  ]\n",
      " [ 0.    0.    0.    0.    0.    0.    0.75  0.    0.    0.    0.    0.\n",
      "   0.    0.  ]\n",
      " [ 0.    0.    0.    0.    0.    0.    0.25  0.    0.    0.    0.    0.\n",
      "   0.    0.  ]]\n",
      "value_at_action:\n",
      "-0.2267011829134447\n",
      "action: open_left_low\n",
      "**\n",
      "reward: 1.0\n",
      "new observation: 0\n",
      "new_beliefs:\n",
      "[[-4.    -3.    -2.5   -2.    -1.5   -1.    -0.5    0.     0.5    1.\n",
      "   1.5    2.     3.     4.   ]\n",
      " [ 0.     0.     0.     0.     0.125  0.     0.     0.     0.375  0.\n",
      "   0.     0.     0.     0.   ]\n",
      " [ 0.     0.     0.     0.     0.125  0.     0.     0.     0.375  0.\n",
      "   0.     0.     0.     0.   ]]\n"
     ]
    }
   ],
   "source": [
    "\n",
    "num_to_act=dict(zip(list(e.actions.values()),list(e.actions.keys())))\n",
    "\n",
    "# reset the agent with random starting x and probability of P(y=0 and s=0)=1/3 and P(y=1 and s=0)=2/3\n",
    "e.reset()\n",
    "initial_observation=e.current_state\n",
    "ag.reset(y0_prob=0.5,initiative_observation=initial_observation)\n",
    "observation=initial_observation\n",
    "state=e.current_state\n",
    "for t in range(maximum_depth):\n",
    "    print('=======================')\n",
    "    print('t=',t)\n",
    "    print('------')\n",
    "    print('state:',state,e.states[state])\n",
    "    print('observation:',observation) \n",
    "    \n",
    "    action,value,belief_at_action=ag.do_action()   \n",
    "    t1,t2,state,reward,observation=e.step(num_to_act[action])\n",
    "    new_mu=ag.update_agent(new_observation=observation)\n",
    "    \n",
    "    print('belief_at_action:')   \n",
    "    print(belief_at_action)\n",
    "    \n",
    "    print('value_at_action:')\n",
    "    print(value)\n",
    "    \n",
    "    print('action:',num_to_act[action])  \n",
    "    \n",
    "    \n",
    "    print ('**' )\n",
    "    print('reward:',reward)\n",
    "    print('new observation:',observation)\n",
    "    print('new_beliefs:')\n",
    "    print (new_mu)\n",
    "    \n",
    "    \n",
    "    #print('state:',e.current_state,'observation:',ag.current_internal_x )\n",
    "    "
   ]
  }
 ],
 "metadata": {
  "kernelspec": {
   "display_name": "Python 3",
   "language": "python",
   "name": "python3"
  },
  "language_info": {
   "codemirror_mode": {
    "name": "ipython",
    "version": 3
   },
   "file_extension": ".py",
   "mimetype": "text/x-python",
   "name": "python",
   "nbconvert_exporter": "python",
   "pygments_lexer": "ipython3",
   "version": "3.8.10"
  }
 },
 "nbformat": 4,
 "nbformat_minor": 4
}
