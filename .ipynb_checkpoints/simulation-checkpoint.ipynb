{
 "cells": [
  {
   "cell_type": "code",
   "execution_count": 2,
   "metadata": {},
   "outputs": [],
   "source": [
    "import random\n",
    "import agent as agent\n",
    "from env import *\n",
    "import scipy.special\n",
    "import time"
   ]
  },
  {
   "cell_type": "markdown",
   "metadata": {},
   "source": [
    "Parameters"
   ]
  },
  {
   "cell_type": "code",
   "execution_count": 3,
   "metadata": {},
   "outputs": [],
   "source": [
    "maximum_depth=1\n",
    "num_of_Mu_chunks=1"
   ]
  },
  {
   "cell_type": "markdown",
   "metadata": {},
   "source": [
    "Make an instance of tiger porblem environment"
   ]
  },
  {
   "cell_type": "code",
   "execution_count": 4,
   "metadata": {},
   "outputs": [],
   "source": [
    "e=tiger_POMDP_env(read_config=True,config_address='./tiger.json',parameters=None)\n"
   ]
  },
  {
   "cell_type": "markdown",
   "metadata": {},
   "source": [
    "make an instance of Bauerle and Rieder agent"
   ]
  },
  {
   "cell_type": "code",
   "execution_count": 5,
   "metadata": {},
   "outputs": [],
   "source": [
    "ag=agent.Bauerle_Rieder_agent(environment=e, num_of_Mu_chunks=num_of_Mu_chunks,max_iterations=maximum_depth)"
   ]
  },
  {
   "cell_type": "code",
   "execution_count": 6,
   "metadata": {
    "scrolled": true
   },
   "outputs": [
    {
     "name": "stdout",
     "output_type": "stream",
     "text": [
      "RWRD [-2.  -1.  -0.5  1.   2. ]\n",
      "WLTH [-2.  -1.  -0.5  0.   1.   2. ] 6\n",
      "CHUNK [[1 0 0 0 0 0 0 0 0 0 0 0]\n",
      " [0 1 0 0 0 0 0 0 0 0 0 0]\n",
      " [0 0 1 0 0 0 0 0 0 0 0 0]\n",
      " [0 0 0 1 0 0 0 0 0 0 0 0]\n",
      " [0 0 0 0 1 0 0 0 0 0 0 0]\n",
      " [0 0 0 0 0 1 0 0 0 0 0 0]\n",
      " [0 0 0 0 0 0 1 0 0 0 0 0]\n",
      " [0 0 0 0 0 0 0 1 0 0 0 0]\n",
      " [0 0 0 0 0 0 0 0 1 0 0 0]\n",
      " [0 0 0 0 0 0 0 0 0 1 0 0]\n",
      " [0 0 0 0 0 0 0 0 0 0 1 0]\n",
      " [0 0 0 0 0 0 0 0 0 0 0 1]] (12, 12)\n"
     ]
    },
    {
     "data": {
      "text/plain": [
       "12"
      ]
     },
     "execution_count": 6,
     "metadata": {},
     "output_type": "execute_result"
    }
   ],
   "source": [
    "# generate_possible_wealths(np.unique(self.env.rewards),self.initial_wealth,self.env.discount_factor,self.max_time_step)\n",
    "\n",
    "wlth = ag.generate_possible_wealths(np.unique(e.rewards),0,1,maximum_depth)\n",
    "print(\"RWRD\",np.unique(e.rewards))\n",
    "print(\"WLTH\",wlth,len(wlth))\n",
    "chunk = ag.chunk_mu([0,1],wlth,num_of_Mu_chunks)\n",
    "print(\"CHUNK\",chunk,chunk.shape)\n",
    "len(chunk)"
   ]
  },
  {
   "cell_type": "code",
   "execution_count": 7,
   "metadata": {},
   "outputs": [
    {
     "name": "stdout",
     "output_type": "stream",
     "text": [
      "149985.0\n"
     ]
    },
    {
     "data": {
      "text/plain": [
       "{0: 'sound_right', 1: 'soud_left'}"
      ]
     },
     "execution_count": 7,
     "metadata": {},
     "output_type": "execute_result"
    }
   ],
   "source": [
    "#Size of MU\n",
    "start = time.time()\n",
    "sum = 0\n",
    "for i in range(1,5):\n",
    "        sum += scipy.special.binom(44, i)\n",
    "print(sum)\n",
    "e.observations"
   ]
  },
  {
   "cell_type": "code",
   "execution_count": 8,
   "metadata": {},
   "outputs": [
    {
     "data": {
      "text/plain": [
       "12"
      ]
     },
     "execution_count": 8,
     "metadata": {},
     "output_type": "execute_result"
    }
   ],
   "source": [
    "hashset = {}\n",
    "for i in range(chunk.shape[0]):\n",
    "    hashset[hash(str(chunk[i,:]))] = 0\n",
    "len(hashset.keys())"
   ]
  },
  {
   "cell_type": "code",
   "execution_count": 9,
   "metadata": {},
   "outputs": [
    {
     "ename": "KeyError",
     "evalue": "4732082449067500563",
     "output_type": "error",
     "traceback": [
      "\u001b[0;31m---------------------------------------------------------------------------\u001b[0m",
      "\u001b[0;31mKeyError\u001b[0m                                  Traceback (most recent call last)",
      "\u001b[0;32m<ipython-input-9-e0bad2317a84>\u001b[0m in \u001b[0;36m<module>\u001b[0;34m\u001b[0m\n\u001b[1;32m      1\u001b[0m \u001b[0msearch_query\u001b[0m \u001b[0;34m=\u001b[0m \u001b[0mstr\u001b[0m\u001b[0;34m(\u001b[0m\u001b[0mnp\u001b[0m\u001b[0;34m.\u001b[0m\u001b[0marray\u001b[0m\u001b[0;34m(\u001b[0m\u001b[0;34m[\u001b[0m\u001b[0;36m0\u001b[0m\u001b[0;34m,\u001b[0m\u001b[0;36m0\u001b[0m\u001b[0;34m,\u001b[0m\u001b[0;36m4\u001b[0m\u001b[0;34m]\u001b[0m\u001b[0;34m+\u001b[0m\u001b[0;34m[\u001b[0m\u001b[0;36m0\u001b[0m\u001b[0;34m]\u001b[0m\u001b[0;34m*\u001b[0m\u001b[0;36m41\u001b[0m\u001b[0;34m)\u001b[0m\u001b[0;34m)\u001b[0m\u001b[0;34m\u001b[0m\u001b[0;34m\u001b[0m\u001b[0m\n\u001b[0;32m----> 2\u001b[0;31m \u001b[0mhashset\u001b[0m\u001b[0;34m[\u001b[0m\u001b[0mhash\u001b[0m\u001b[0;34m(\u001b[0m\u001b[0msearch_query\u001b[0m\u001b[0;34m)\u001b[0m\u001b[0;34m]\u001b[0m\u001b[0;34m\u001b[0m\u001b[0;34m\u001b[0m\u001b[0m\n\u001b[0m",
      "\u001b[0;31mKeyError\u001b[0m: 4732082449067500563"
     ]
    }
   ],
   "source": [
    "search_query = str(np.array([0,0,4]+[0]*41))\n",
    "hashset[hash(search_query)]"
   ]
  },
  {
   "cell_type": "code",
   "execution_count": 10,
   "metadata": {},
   "outputs": [
    {
     "name": "stdout",
     "output_type": "stream",
     "text": [
      "0.015173196792602539\n"
     ]
    }
   ],
   "source": [
    "start = time.time()\n",
    "ag.pre_planning_paration(make_and_save_Mu=True,save_Mu2index_chunks=True)\n",
    "end = time.time()\n",
    "print(end-start)\n"
   ]
  },
  {
   "cell_type": "code",
   "execution_count": 11,
   "metadata": {},
   "outputs": [
    {
     "data": {
      "text/plain": [
       "array([list([1, 2]), 2, 3], dtype=object)"
      ]
     },
     "execution_count": 11,
     "metadata": {},
     "output_type": "execute_result"
    }
   ],
   "source": [
    "np.append(([1,2],2),3)"
   ]
  },
  {
   "cell_type": "code",
   "execution_count": 12,
   "metadata": {},
   "outputs": [
    {
     "data": {
      "text/plain": [
       "array([[[0.89, 0.11],\n",
       "        [0.12, 0.88]],\n",
       "\n",
       "       [[0.8 , 0.2 ],\n",
       "        [0.2 , 0.8 ]],\n",
       "\n",
       "       [[0.8 , 0.2 ],\n",
       "        [0.2 , 0.8 ]],\n",
       "\n",
       "       [[0.8 , 0.2 ],\n",
       "        [0.2 , 0.8 ]],\n",
       "\n",
       "       [[0.8 , 0.2 ],\n",
       "        [0.2 , 0.8 ]]])"
      ]
     },
     "execution_count": 12,
     "metadata": {},
     "output_type": "execute_result"
    }
   ],
   "source": [
    "e.observation_matrix"
   ]
  },
  {
   "cell_type": "code",
   "execution_count": 13,
   "metadata": {},
   "outputs": [
    {
     "data": {
      "text/plain": [
       "array([[[0.8 , 0.2 ],\n",
       "        [0.5 , 0.5 ],\n",
       "        [0.5 , 0.5 ],\n",
       "        [0.5 , 0.5 ],\n",
       "        [0.5 , 0.5 ]],\n",
       "\n",
       "       [[0.15, 0.85],\n",
       "        [0.5 , 0.5 ],\n",
       "        [0.5 , 0.5 ],\n",
       "        [0.5 , 0.5 ],\n",
       "        [0.5 , 0.5 ]]])"
      ]
     },
     "execution_count": 13,
     "metadata": {},
     "output_type": "execute_result"
    }
   ],
   "source": [
    "e.transition_matrix"
   ]
  },
  {
   "cell_type": "markdown",
   "metadata": {},
   "source": [
    "2.value-iteration<br>\n",
    "<br>\n",
    "Its result are in value_function, action_function, and step_indexes attributes"
   ]
  },
  {
   "cell_type": "code",
   "execution_count": 14,
   "metadata": {
    "jupyter": {
     "outputs_hidden": true
    },
    "scrolled": true
   },
   "outputs": [
    {
     "name": "stdout",
     "output_type": "stream",
     "text": [
      "step: 1\n",
      "==== iterations\n",
      "Self.S [-2.  -1.  -0.5  0.   1.   2. ]\n",
      "step: 0\n",
      "x: 0 a: 0\n",
      "int_mus [[0 0 0 1 0 0 0 0 0 0 0 0]\n",
      " [0 0 0 0 0 0 0 0 0 1 0 0]] possible [0]\n",
      "[[0 0 1 0 0 0 0 0 0 0 0 0]\n",
      " [0 0 1 0 0 0 0 0 0 0 0 0]] [2 2]\n",
      "next_mu_xp_z [-0.5 -0.5] 0\n",
      "[[0 0 0 0 0 0 0 0 1 0 0 0]\n",
      " [0 0 0 0 0 0 0 0 1 0 0 0]] [8 8]\n",
      "next_mu_xp_z [-0.5 -0.5] 1\n",
      "x: 0 a: 1\n",
      "int_mus [[0 0 0 1 0 0 0 0 0 0 0 0]\n",
      " [0 0 0 0 0 0 0 0 0 1 0 0]] possible [0]\n",
      "[[0 0 0 0 1 0 0 0 0 0 0 0]\n",
      " [0 1 0 0 0 0 0 0 0 0 0 0]] [4 1]\n",
      "next_mu_xp_z [ 1. -1.] 0\n",
      "[[0 0 0 0 0 0 0 0 0 0 1 0]\n",
      " [0 0 0 0 0 0 0 1 0 0 0 0]] [10  7]\n",
      "next_mu_xp_z [ 1. -1.] 1\n",
      "x: 0 a: 2\n",
      "int_mus [[0 0 0 1 0 0 0 0 0 0 0 0]\n",
      " [0 0 0 0 0 0 0 0 0 1 0 0]] possible [0]\n",
      "[[0 1 0 0 0 0 0 0 0 0 0 0]\n",
      " [0 0 0 0 1 0 0 0 0 0 0 0]] [1 4]\n",
      "next_mu_xp_z [-1.  1.] 0\n",
      "[[0 0 0 0 0 0 0 1 0 0 0 0]\n",
      " [0 0 0 0 0 0 0 0 0 0 1 0]] [ 7 10]\n",
      "next_mu_xp_z [-1.  1.] 1\n",
      "x: 0 a: 3\n",
      "int_mus [[0 0 0 1 0 0 0 0 0 0 0 0]\n",
      " [0 0 0 0 0 0 0 0 0 1 0 0]] possible [0]\n",
      "[[0 0 0 0 0 1 0 0 0 0 0 0]\n",
      " [1 0 0 0 0 0 0 0 0 0 0 0]] [5 0]\n",
      "next_mu_xp_z [ 2. -2.] 0\n",
      "[[0 0 0 0 0 0 0 0 0 0 0 1]\n",
      " [0 0 0 0 0 0 1 0 0 0 0 0]] [11  6]\n",
      "next_mu_xp_z [ 2. -2.] 1\n",
      "x: 0 a: 4\n",
      "int_mus [[0 0 0 1 0 0 0 0 0 0 0 0]\n",
      " [0 0 0 0 0 0 0 0 0 1 0 0]] possible [0]\n",
      "[[1 0 0 0 0 0 0 0 0 0 0 0]\n",
      " [0 0 0 0 0 1 0 0 0 0 0 0]] [0 5]\n",
      "next_mu_xp_z [-2.  2.] 0\n",
      "[[0 0 0 0 0 0 1 0 0 0 0 0]\n",
      " [0 0 0 0 0 0 0 0 0 0 0 1]] [ 6 11]\n",
      "next_mu_xp_z [-2.  2.] 1\n",
      "BEST [2. 2.] [3 4]\n",
      "x: 1 a: 0\n",
      "int_mus [[0 0 0 1 0 0 0 0 0 0 0 0]\n",
      " [0 0 0 0 0 0 0 0 0 1 0 0]] possible [0]\n",
      "[[0 0 1 0 0 0 0 0 0 0 0 0]\n",
      " [0 0 1 0 0 0 0 0 0 0 0 0]] [2 2]\n",
      "next_mu_xp_z [-0.5 -0.5] 0\n",
      "[[0 0 0 0 0 0 0 0 1 0 0 0]\n",
      " [0 0 0 0 0 0 0 0 1 0 0 0]] [8 8]\n",
      "next_mu_xp_z [-0.5 -0.5] 1\n",
      "x: 1 a: 1\n",
      "int_mus [[0 0 0 1 0 0 0 0 0 0 0 0]\n",
      " [0 0 0 0 0 0 0 0 0 1 0 0]] possible [0]\n",
      "[[0 0 0 0 1 0 0 0 0 0 0 0]\n",
      " [0 1 0 0 0 0 0 0 0 0 0 0]] [4 1]\n",
      "next_mu_xp_z [ 1. -1.] 0\n",
      "[[0 0 0 0 0 0 0 0 0 0 1 0]\n",
      " [0 0 0 0 0 0 0 1 0 0 0 0]] [10  7]\n",
      "next_mu_xp_z [ 1. -1.] 1\n",
      "x: 1 a: 2\n",
      "int_mus [[0 0 0 1 0 0 0 0 0 0 0 0]\n",
      " [0 0 0 0 0 0 0 0 0 1 0 0]] possible [0]\n",
      "[[0 1 0 0 0 0 0 0 0 0 0 0]\n",
      " [0 0 0 0 1 0 0 0 0 0 0 0]] [1 4]\n",
      "next_mu_xp_z [-1.  1.] 0\n",
      "[[0 0 0 0 0 0 0 1 0 0 0 0]\n",
      " [0 0 0 0 0 0 0 0 0 0 1 0]] [ 7 10]\n",
      "next_mu_xp_z [-1.  1.] 1\n",
      "x: 1 a: 3\n",
      "int_mus [[0 0 0 1 0 0 0 0 0 0 0 0]\n",
      " [0 0 0 0 0 0 0 0 0 1 0 0]] possible [0]\n",
      "[[0 0 0 0 0 1 0 0 0 0 0 0]\n",
      " [1 0 0 0 0 0 0 0 0 0 0 0]] [5 0]\n",
      "next_mu_xp_z [ 2. -2.] 0\n",
      "[[0 0 0 0 0 0 0 0 0 0 0 1]\n",
      " [0 0 0 0 0 0 1 0 0 0 0 0]] [11  6]\n",
      "next_mu_xp_z [ 2. -2.] 1\n",
      "x: 1 a: 4\n",
      "int_mus [[0 0 0 1 0 0 0 0 0 0 0 0]\n",
      " [0 0 0 0 0 0 0 0 0 1 0 0]] possible [0]\n",
      "[[1 0 0 0 0 0 0 0 0 0 0 0]\n",
      " [0 0 0 0 0 1 0 0 0 0 0 0]] [0 5]\n",
      "next_mu_xp_z [-2.  2.] 0\n",
      "[[0 0 0 0 0 0 1 0 0 0 0 0]\n",
      " [0 0 0 0 0 0 0 0 0 0 0 1]] [ 6 11]\n",
      "next_mu_xp_z [-2.  2.] 1\n",
      "BEST [2. 2.] [3 4]\n",
      "XA_vals [[[-0.5 -0.5]\n",
      "  [ 1.  -1. ]\n",
      "  [-1.   1. ]\n",
      "  [ 2.  -2. ]\n",
      "  [-2.   2. ]]\n",
      "\n",
      " [[-0.5 -0.5]\n",
      "  [ 1.  -1. ]\n",
      "  [-1.   1. ]\n",
      "  [ 2.  -2. ]\n",
      "  [-2.   2. ]]] (2, 5, 2)\n"
     ]
    }
   ],
   "source": [
    "xa = ag.value_iteration(utility_function='risk-neutral')"
   ]
  },
  {
   "cell_type": "code",
   "execution_count": null,
   "metadata": {},
   "outputs": [],
   "source": []
  },
  {
   "cell_type": "code",
   "execution_count": 15,
   "metadata": {},
   "outputs": [
    {
     "data": {
      "text/plain": [
       "array([[[0.89, 0.11],\n",
       "        [0.12, 0.88]],\n",
       "\n",
       "       [[0.8 , 0.2 ],\n",
       "        [0.2 , 0.8 ]],\n",
       "\n",
       "       [[0.8 , 0.2 ],\n",
       "        [0.2 , 0.8 ]],\n",
       "\n",
       "       [[0.8 , 0.2 ],\n",
       "        [0.2 , 0.8 ]],\n",
       "\n",
       "       [[0.8 , 0.2 ],\n",
       "        [0.2 , 0.8 ]]])"
      ]
     },
     "execution_count": 15,
     "metadata": {},
     "output_type": "execute_result"
    }
   ],
   "source": [
    "e.observation_matrix"
   ]
  },
  {
   "cell_type": "code",
   "execution_count": 16,
   "metadata": {},
   "outputs": [
    {
     "ename": "SyntaxError",
     "evalue": "invalid syntax (<ipython-input-16-0e0510a842a6>, line 2)",
     "output_type": "error",
     "traceback": [
      "\u001b[0;36m  File \u001b[0;32m\"<ipython-input-16-0e0510a842a6>\"\u001b[0;36m, line \u001b[0;32m2\u001b[0m\n\u001b[0;31m    BEST [2. 2.] [3 4]\u001b[0m\n\u001b[0m              ^\u001b[0m\n\u001b[0;31mSyntaxError\u001b[0m\u001b[0;31m:\u001b[0m invalid syntax\n"
     ]
    }
   ],
   "source": [
    "xa[:,:,:]\n",
    "BEST [2. 2.] [3 4]\n",
    "XA_vals [[[-0.5 -0.5]\n",
    "  [ 1.  -1. ]\n",
    "  [-1.   1. ]\n",
    "  [ 2.  -2. ]\n",
    "  [-2.   2. ]]\n",
    "\n",
    " [[-0.5 -0.5]\n",
    "  [ 1.  -1. ]\n",
    "  [-1.   1. ]\n",
    "  [ 2.  -2. ]\n",
    "  [-2.   2. ]]] (2, 5, 2)"
   ]
  },
  {
   "cell_type": "markdown",
   "metadata": {},
   "source": [
    "=========="
   ]
  },
  {
   "cell_type": "markdown",
   "metadata": {},
   "source": [
    "<b>Simulation"
   ]
  },
  {
   "cell_type": "markdown",
   "metadata": {},
   "source": [
    "After using value iteration, we have computed anything. So, we need to update our agent beliefs by interacting with environment.<br>\n",
    "We have two essential functions here: do_action() and update_agent() "
   ]
  },
  {
   "cell_type": "markdown",
   "metadata": {},
   "source": [
    "An experiment with depth 2 and 3 chunk points"
   ]
  },
  {
   "cell_type": "code",
   "execution_count": null,
   "metadata": {},
   "outputs": [],
   "source": [
    "maximum_depth=1\n",
    "\n",
    "num_to_act=dict(zip(list(e.actions.values()),list(e.actions.keys())))\n",
    "\n",
    "# reset the agent with random starting x and probability of P(y=0 and s=0)=1/3 and P(y=1 and s=0)=2/3\n",
    "ag.reset(y0_prob=1./3,initiative_observation=random.randint(0,1))\n",
    "\n",
    "for t in range(maximum_depth):\n",
    "    action,value,belief=ag.do_action()   \n",
    "    t1,t2,state,reward,observation=e.step(num_to_act[action])\n",
    "    ag.update_agent(new_observation=observation)\n",
    "    print('t=',t)\n",
    "    print('----')\n",
    "    print('state:',e.current_state,'observation:',ag.current_internal_x, 'action:',action )\n",
    "    print('reward:',reward)"
   ]
  },
  {
   "cell_type": "code",
   "execution_count": null,
   "metadata": {},
   "outputs": [],
   "source": [
    "value = []"
   ]
  },
  {
   "cell_type": "code",
   "execution_count": null,
   "metadata": {},
   "outputs": [],
   "source": [
    "value.insert(0,4)"
   ]
  },
  {
   "cell_type": "code",
   "execution_count": null,
   "metadata": {},
   "outputs": [],
   "source": [
    "value"
   ]
  },
  {
   "cell_type": "code",
   "execution_count": null,
   "metadata": {},
   "outputs": [],
   "source": []
  }
 ],
 "metadata": {
  "kernelspec": {
   "display_name": "Python 3",
   "language": "python",
   "name": "python3"
  },
  "language_info": {
   "codemirror_mode": {
    "name": "ipython",
    "version": 3
   },
   "file_extension": ".py",
   "mimetype": "text/x-python",
   "name": "python",
   "nbconvert_exporter": "python",
   "pygments_lexer": "ipython3",
   "version": "3.7.6"
  }
 },
 "nbformat": 4,
 "nbformat_minor": 4
}
